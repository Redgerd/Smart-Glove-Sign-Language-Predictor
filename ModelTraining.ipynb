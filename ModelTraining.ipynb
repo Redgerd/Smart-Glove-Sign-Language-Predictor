{
 "cells": [
  {
   "cell_type": "code",
   "execution_count": 1,
   "metadata": {},
   "outputs": [
    {
     "name": "stdout",
     "output_type": "stream",
     "text": [
      "Model Accuracy: 0.9955\n"
     ]
    }
   ],
   "source": [
    "import pandas as pd\n",
    "from sklearn.ensemble import RandomForestClassifier\n",
    "from sklearn.model_selection import train_test_split\n",
    "from sklearn.metrics import accuracy_score\n",
    "import joblib\n",
    "\n",
    "# Assuming the dataset is already loaded into a Pandas DataFrame 'df'\n",
    "# Load the dataset (you can modify this based on your data source)\n",
    "data_folder = r\"ASL-Sensor-Dataglove-Dataset\\ASL-Sensor-Dataglove-Dataset\\025\"\n",
    "import os\n",
    "\n",
    "def load_csv_files(folder_path):\n",
    "    dataframes = []\n",
    "    for file_name in os.listdir(folder_path):\n",
    "        if file_name.endswith(\".csv\"):\n",
    "            label = file_name.split(\".\")[0]  # Use the file name as the label\n",
    "            df = pd.read_csv(os.path.join(folder_path, file_name))\n",
    "            df['label'] = label  # Add a label column\n",
    "            dataframes.append(df)\n",
    "    return dataframes\n",
    "\n",
    "dataframes = load_csv_files(data_folder)\n",
    "df = pd.concat(dataframes, ignore_index=True)\n",
    "\n",
    "# Select the columns to be used\n",
    "selected_columns = [\"flex_1\", \"flex_2\", \"flex_3\", \"flex_4\", \"flex_5\", \"GYRx\", \"GYRy\", \"GYRz\", \"label\"]\n",
    "df = df[selected_columns]\n",
    "\n",
    "# Handle missing values (if any)\n",
    "df = df.dropna()\n",
    "\n",
    "# Split into features and labels\n",
    "X = df[[\"flex_1\", \"flex_2\", \"flex_3\", \"flex_4\", \"flex_5\", \"GYRx\", \"GYRy\", \"GYRz\"]]\n",
    "y = df[\"label\"]\n",
    "\n",
    "# Encode labels\n",
    "y = pd.factorize(y)[0]  # Encoding the labels as numbers\n",
    "\n",
    "# Split into train and test sets\n",
    "X_train, X_test, y_train, y_test = train_test_split(X, y, test_size=0.2, random_state=42)\n",
    "\n",
    "# Train the model\n",
    "rf = RandomForestClassifier(n_estimators=100)\n",
    "rf.fit(X_train, y_train)\n",
    "\n",
    "# Save the trained model using joblib\n",
    "joblib.dump(rf, \"rf_model.pkl\")\n",
    "\n",
    "# Evaluate the model on the test set\n",
    "y_pred = rf.predict(X_test)\n",
    "accuracy = accuracy_score(y_test, y_pred)\n",
    "print(f\"Model Accuracy: {accuracy}\")"
   ]
  },
  {
   "cell_type": "code",
   "execution_count": 2,
   "metadata": {},
   "outputs": [
    {
     "data": {
      "text/plain": [
       "['rf_model.pkl']"
      ]
     },
     "execution_count": 2,
     "metadata": {},
     "output_type": "execute_result"
    }
   ],
   "source": [
    "# Save the trained model\n",
    "joblib.dump(rf, \"rf_model.pkl\")"
   ]
  },
  {
   "cell_type": "code",
   "execution_count": null,
   "metadata": {},
   "outputs": [],
   "source": []
  }
 ],
 "metadata": {
  "kernelspec": {
   "display_name": "Python 3",
   "language": "python",
   "name": "python3"
  },
  "language_info": {
   "codemirror_mode": {
    "name": "ipython",
    "version": 3
   },
   "file_extension": ".py",
   "mimetype": "text/x-python",
   "name": "python",
   "nbconvert_exporter": "python",
   "pygments_lexer": "ipython3",
   "version": "3.12.4"
  }
 },
 "nbformat": 4,
 "nbformat_minor": 2
}
