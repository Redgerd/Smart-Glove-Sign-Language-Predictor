{
 "cells": [
  {
   "cell_type": "markdown",
   "metadata": {},
   "source": [
    "# Picking Data from file"
   ]
  },
  {
   "cell_type": "code",
   "execution_count": 1,
   "metadata": {},
   "outputs": [
    {
     "name": "stdout",
     "output_type": "stream",
     "text": [
      "Requirement already satisfied: pandas in c:\\users\\sa\\appdata\\local\\programs\\python\\python312\\lib\\site-packages (2.2.2)\n",
      "Requirement already satisfied: numpy>=1.26.0 in c:\\users\\sa\\appdata\\local\\programs\\python\\python312\\lib\\site-packages (from pandas) (2.2.1)\n",
      "Requirement already satisfied: python-dateutil>=2.8.2 in c:\\users\\sa\\appdata\\roaming\\python\\python312\\site-packages (from pandas) (2.9.0.post0)\n",
      "Requirement already satisfied: pytz>=2020.1 in c:\\users\\sa\\appdata\\local\\programs\\python\\python312\\lib\\site-packages (from pandas) (2024.1)\n",
      "Requirement already satisfied: tzdata>=2022.7 in c:\\users\\sa\\appdata\\local\\programs\\python\\python312\\lib\\site-packages (from pandas) (2024.1)\n",
      "Requirement already satisfied: six>=1.5 in c:\\users\\sa\\appdata\\roaming\\python\\python312\\site-packages (from python-dateutil>=2.8.2->pandas) (1.16.0)\n"
     ]
    },
    {
     "name": "stderr",
     "output_type": "stream",
     "text": [
      "DEPRECATION: Loading egg at c:\\users\\sa\\appdata\\local\\programs\\python\\python312\\lib\\site-packages\\yapf-0.40.2-py3.12.egg is deprecated. pip 25.1 will enforce this behaviour change. A possible replacement is to use pip for package installation. Discussion can be found at https://github.com/pypa/pip/issues/12330\n"
     ]
    }
   ],
   "source": [
    "!pip install pandas\n"
   ]
  },
  {
   "cell_type": "code",
   "execution_count": 1,
   "metadata": {},
   "outputs": [],
   "source": [
    "import os\n",
    "import pandas as pd\n",
    "from sklearn.ensemble import RandomForestClassifier\n",
    "from sklearn.model_selection import train_test_split, GridSearchCV\n",
    "from sklearn.metrics import accuracy_score, classification_report\n",
    "import joblib\n",
    "\n",
    "# Function to load and concatenate CSV files from a folder\n",
    "def load_csv_files(folder_path):\n",
    "    dataframes = []\n",
    "    for file_name in os.listdir(folder_path):\n",
    "        if file_name.endswith(\".csv\"):\n",
    "            label = file_name.split(\".\")[0]  # Use the file name (without extension) as the label\n",
    "            df = pd.read_csv(os.path.join(folder_path, file_name))\n",
    "            df['label'] = label  # Add a label column\n",
    "            dataframes.append(df)\n",
    "    return pd.concat(dataframes, ignore_index=True)\n",
    "\n",
    "# Load dataset\n",
    "data_folder = r\"data\"\n",
    "df = load_csv_files(data_folder)\n",
    "\n",
    "# columns for features and labels\n",
    "selected_columns = [\"Flex1\", \"Flex2\", \"Flex3\", \"Flex4\", \"Flex5\", \n",
    "                    \"AccelX\", \"AccelY\", \"AccelZ\", \"GyroX\", \"GyroY\", \"GyroZ\", \"label\"]\n",
    "\n",
    "# Ensure selected columns exist\n",
    "df = df[selected_columns]\n",
    "\n",
    "# Handle missing values\n",
    "df = df.dropna()"
   ]
  },
  {
   "cell_type": "markdown",
   "metadata": {},
   "source": [
    "# Data Analysis"
   ]
  },
  {
   "cell_type": "code",
   "execution_count": 2,
   "metadata": {},
   "outputs": [
    {
     "name": "stdout",
     "output_type": "stream",
     "text": [
      "Number of instances of label 'hellow': 0\n"
     ]
    },
    {
     "data": {
      "text/html": [
       "<div>\n",
       "<style scoped>\n",
       "    .dataframe tbody tr th:only-of-type {\n",
       "        vertical-align: middle;\n",
       "    }\n",
       "\n",
       "    .dataframe tbody tr th {\n",
       "        vertical-align: top;\n",
       "    }\n",
       "\n",
       "    .dataframe thead th {\n",
       "        text-align: right;\n",
       "    }\n",
       "</style>\n",
       "<table border=\"1\" class=\"dataframe\">\n",
       "  <thead>\n",
       "    <tr style=\"text-align: right;\">\n",
       "      <th></th>\n",
       "      <th>Flex1</th>\n",
       "      <th>Flex2</th>\n",
       "      <th>Flex3</th>\n",
       "      <th>Flex4</th>\n",
       "      <th>Flex5</th>\n",
       "      <th>AccelX</th>\n",
       "      <th>AccelY</th>\n",
       "      <th>AccelZ</th>\n",
       "      <th>GyroX</th>\n",
       "      <th>GyroY</th>\n",
       "      <th>GyroZ</th>\n",
       "      <th>label</th>\n",
       "    </tr>\n",
       "  </thead>\n",
       "  <tbody>\n",
       "    <tr>\n",
       "      <th>0</th>\n",
       "      <td>790</td>\n",
       "      <td>792</td>\n",
       "      <td>805</td>\n",
       "      <td>778</td>\n",
       "      <td>772</td>\n",
       "      <td>-1.45</td>\n",
       "      <td>1.88</td>\n",
       "      <td>10.64</td>\n",
       "      <td>-0.57</td>\n",
       "      <td>1.21</td>\n",
       "      <td>0.41</td>\n",
       "      <td>a</td>\n",
       "    </tr>\n",
       "    <tr>\n",
       "      <th>1</th>\n",
       "      <td>784</td>\n",
       "      <td>784</td>\n",
       "      <td>793</td>\n",
       "      <td>774</td>\n",
       "      <td>771</td>\n",
       "      <td>-3.19</td>\n",
       "      <td>1.33</td>\n",
       "      <td>10.11</td>\n",
       "      <td>0.29</td>\n",
       "      <td>1.10</td>\n",
       "      <td>-0.05</td>\n",
       "      <td>a</td>\n",
       "    </tr>\n",
       "    <tr>\n",
       "      <th>2</th>\n",
       "      <td>775</td>\n",
       "      <td>777</td>\n",
       "      <td>785</td>\n",
       "      <td>767</td>\n",
       "      <td>769</td>\n",
       "      <td>-3.21</td>\n",
       "      <td>2.02</td>\n",
       "      <td>9.56</td>\n",
       "      <td>0.04</td>\n",
       "      <td>0.30</td>\n",
       "      <td>0.08</td>\n",
       "      <td>a</td>\n",
       "    </tr>\n",
       "    <tr>\n",
       "      <th>3</th>\n",
       "      <td>772</td>\n",
       "      <td>775</td>\n",
       "      <td>782</td>\n",
       "      <td>767</td>\n",
       "      <td>767</td>\n",
       "      <td>-3.26</td>\n",
       "      <td>1.76</td>\n",
       "      <td>9.42</td>\n",
       "      <td>-0.68</td>\n",
       "      <td>0.11</td>\n",
       "      <td>0.32</td>\n",
       "      <td>a</td>\n",
       "    </tr>\n",
       "    <tr>\n",
       "      <th>4</th>\n",
       "      <td>776</td>\n",
       "      <td>776</td>\n",
       "      <td>785</td>\n",
       "      <td>769</td>\n",
       "      <td>768</td>\n",
       "      <td>-3.88</td>\n",
       "      <td>1.29</td>\n",
       "      <td>9.48</td>\n",
       "      <td>-0.03</td>\n",
       "      <td>-0.19</td>\n",
       "      <td>-0.07</td>\n",
       "      <td>a</td>\n",
       "    </tr>\n",
       "  </tbody>\n",
       "</table>\n",
       "</div>"
      ],
      "text/plain": [
       "   Flex1  Flex2  Flex3  Flex4  Flex5  AccelX  AccelY  AccelZ  GyroX  GyroY  \\\n",
       "0    790    792    805    778    772   -1.45    1.88   10.64  -0.57   1.21   \n",
       "1    784    784    793    774    771   -3.19    1.33   10.11   0.29   1.10   \n",
       "2    775    777    785    767    769   -3.21    2.02    9.56   0.04   0.30   \n",
       "3    772    775    782    767    767   -3.26    1.76    9.42  -0.68   0.11   \n",
       "4    776    776    785    769    768   -3.88    1.29    9.48  -0.03  -0.19   \n",
       "\n",
       "   GyroZ label  \n",
       "0   0.41     a  \n",
       "1  -0.05     a  \n",
       "2   0.08     a  \n",
       "3   0.32     a  \n",
       "4  -0.07     a  "
      ]
     },
     "execution_count": 2,
     "metadata": {},
     "output_type": "execute_result"
    }
   ],
   "source": [
    "# Analyze feature distribution for the label 'hellow'\n",
    "label_hellow_count = df[df['label'] == 'hello'].shape[0]\n",
    "print(f\"Number of instances of label 'hellow': {label_hellow_count}\")\n",
    "\n",
    "df.head()"
   ]
  },
  {
   "cell_type": "code",
   "execution_count": 3,
   "metadata": {},
   "outputs": [
    {
     "data": {
      "text/plain": [
       "label\n",
       "Yes           1286\n",
       "No             973\n",
       "I_Love_You     896\n",
       "Hello          895\n",
       "f              800\n",
       "c              797\n",
       "e              700\n",
       "Now            699\n",
       "Awkward        694\n",
       "Sorry          673\n",
       "Bathroom       672\n",
       "d              667\n",
       "Deaf           665\n",
       "Goodbye        664\n",
       "a              662\n",
       "b              653\n",
       "Name: count, dtype: int64"
      ]
     },
     "execution_count": 3,
     "metadata": {},
     "output_type": "execute_result"
    }
   ],
   "source": [
    "# Display label counts\n",
    "label_counts = df[\"label\"].value_counts()\n",
    "label_counts"
   ]
  },
  {
   "cell_type": "code",
   "execution_count": 4,
   "metadata": {},
   "outputs": [
    {
     "name": "stdout",
     "output_type": "stream",
     "text": [
      "Fitting 3 folds for each of 81 candidates, totalling 243 fits\n"
     ]
    },
    {
     "data": {
      "text/plain": [
       "['rf_model.pkl']"
      ]
     },
     "execution_count": 4,
     "metadata": {},
     "output_type": "execute_result"
    }
   ],
   "source": [
    "# Split into features (X) and labels (y)\n",
    "X = df[[\"Flex1\", \"Flex2\", \"Flex3\", \"Flex4\", \"Flex5\", \"AccelX\", \"AccelY\", \"AccelZ\", \"GyroX\", \"GyroY\", \"GyroZ\"]]\n",
    "y = df[\"label\"]\n",
    "\n",
    "# Split into train and test sets\n",
    "X_train, X_test, y_train, y_test = train_test_split(X, y, test_size=0.2, random_state=42)\n",
    "\n",
    "# Initialize Random Forest Classifier\n",
    "rf = RandomForestClassifier(random_state=42)\n",
    "\n",
    "# Perform hyperparameter tuning with GridSearchCV\n",
    "param_grid = {\n",
    "    \"n_estimators\": [50, 100, 150],\n",
    "    \"max_depth\": [None, 10, 20],\n",
    "    \"min_samples_split\": [2, 5, 10],\n",
    "    \"min_samples_leaf\": [1, 2, 4]\n",
    "}\n",
    "\n",
    "grid_search = GridSearchCV(rf, param_grid, cv=3, n_jobs=-1, scoring=\"accuracy\", verbose=2)\n",
    "grid_search.fit(X_train, y_train)\n",
    "\n",
    "# Best model from grid search\n",
    "best_rf = grid_search.best_estimator_\n",
    "\n",
    "# Train the model with the best parameters\n",
    "best_rf.fit(X_train, y_train)\n",
    "\n",
    "# Save the trained model\n",
    "joblib.dump(best_rf, \"rf_model.pkl\")"
   ]
  },
  {
   "cell_type": "markdown",
   "metadata": {},
   "source": [
    "# Model Evaluation"
   ]
  },
  {
   "cell_type": "code",
   "execution_count": 5,
   "metadata": {},
   "outputs": [
    {
     "name": "stdout",
     "output_type": "stream",
     "text": [
      "Model Accuracy: 0.9826612903225806\n",
      "\n",
      "Classification Report:\n",
      "               precision    recall  f1-score   support\n",
      "\n",
      "     Awkward       1.00      0.96      0.98       140\n",
      "    Bathroom       1.00      1.00      1.00       149\n",
      "        Deaf       1.00      1.00      1.00       136\n",
      "     Goodbye       0.99      1.00      1.00       129\n",
      "       Hello       0.97      0.98      0.98       170\n",
      "  I_Love_You       0.95      0.96      0.95       198\n",
      "          No       0.94      0.95      0.94       202\n",
      "         Now       0.99      0.98      0.98       130\n",
      "       Sorry       1.00      1.00      1.00       132\n",
      "         Yes       0.96      0.98      0.97       231\n",
      "           a       1.00      0.96      0.98       140\n",
      "           b       1.00      1.00      1.00       132\n",
      "           c       0.99      0.99      0.99       156\n",
      "           d       1.00      1.00      1.00       132\n",
      "           e       1.00      0.99      0.99       153\n",
      "           f       0.99      1.00      1.00       150\n",
      "\n",
      "    accuracy                           0.98      2480\n",
      "   macro avg       0.99      0.98      0.99      2480\n",
      "weighted avg       0.98      0.98      0.98      2480\n",
      "\n"
     ]
    },
    {
     "data": {
      "image/png": "[encoded data removed]",
      "text/plain": [
       "<Figure size 1000x600 with 2 Axes>"
      ]
     },
     "metadata": {},
     "output_type": "display_data"
    },
    {
     "name": "stdout",
     "output_type": "stream",
     "text": [
      "Precision: 0.9829256342781658\n",
      "Recall: 0.9826612903225806\n",
      "F1 Score: 0.9827088199565449\n"
     ]
    }
   ],
   "source": [
    "from sklearn.metrics import confusion_matrix, precision_score, recall_score, f1_score, roc_auc_score\n",
    "import matplotlib.pyplot as plt\n",
    "import seaborn as sns\n",
    "\n",
    "# Evaluate the model on the test set\n",
    "y_pred = best_rf.predict(X_test)\n",
    "y_pred_proba = best_rf.predict_proba(X_test)  # For ROC-AUC, if applicable\n",
    "\n",
    "# Accuracy\n",
    "accuracy = accuracy_score(y_test, y_pred)\n",
    "print(f\"Model Accuracy: {accuracy}\")\n",
    "\n",
    "# Classification Report\n",
    "print(\"\\nClassification Report:\\n\", classification_report(y_test, y_pred))\n",
    "\n",
    "# Confusion Matrix\n",
    "conf_matrix = confusion_matrix(y_test, y_pred)\n",
    "plt.figure(figsize=(10, 6))\n",
    "sns.heatmap(conf_matrix, annot=True, fmt=\"d\", cmap=\"Blues\", xticklabels=best_rf.classes_, yticklabels=best_rf.classes_)\n",
    "plt.title(\"Confusion Matrix\")\n",
    "plt.xlabel(\"Predicted\")\n",
    "plt.ylabel(\"Actual\")\n",
    "plt.show()\n",
    "\n",
    "# Precision, Recall, F1-Score\n",
    "precision = precision_score(y_test, y_pred, average=\"weighted\")\n",
    "recall = recall_score(y_test, y_pred, average=\"weighted\")\n",
    "f1 = f1_score(y_test, y_pred, average=\"weighted\")\n",
    "print(f\"Precision: {precision}\")\n",
    "print(f\"Recall: {recall}\")\n",
    "print(f\"F1 Score: {f1}\")\n",
    "\n",
    "# ROC-AUC (only for binary classification)\n",
    "if len(y.unique()) == 2:\n",
    "    roc_auc = roc_auc_score(y_test, y_pred_proba[:, 1])\n",
    "    print(f\"ROC-AUC Score: {roc_auc}\")\n"
   ]
  },
  {
   "cell_type": "code",
   "execution_count": null,
   "metadata": {},
   "outputs": [],
   "source": []
  }
 ],
 "metadata": {
  "kernelspec": {
   "display_name": "Python 3",
   "language": "python",
   "name": "python3"
  },
  "language_info": {
   "codemirror_mode": {
    "name": "ipython",
    "version": 3
   },
   "file_extension": ".py",
   "mimetype": "text/x-python",
   "name": "python",
   "nbconvert_exporter": "python",
   "pygments_lexer": "ipython3",
   "version": "3.12.4"
  }
 },
 "nbformat": 4,
 "nbformat_minor": 2
}
