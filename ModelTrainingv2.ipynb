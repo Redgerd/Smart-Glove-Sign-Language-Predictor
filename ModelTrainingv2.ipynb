{
 "cells": [
  {
   "cell_type": "markdown",
   "metadata": {},
   "source": [
    "# Import Libraries"
   ]
  },
  {
   "cell_type": "code",
   "execution_count": 7,
   "metadata": {},
   "outputs": [
    {
     "name": "stdout",
     "output_type": "stream",
     "text": [
      "Collecting tensorflow_decision_forests\n",
      "  Using cached tensorflow_decision_forests-1.8.1.tar.gz (15.2 MB)\n",
      "  Preparing metadata (setup.py): started\n",
      "  Preparing metadata (setup.py): finished with status 'done'\n",
      "Requirement already satisfied: numpy in c:\\users\\sa\\appdata\\local\\programs\\python\\python312\\lib\\site-packages (from tensorflow_decision_forests) (1.26.1)\n",
      "Requirement already satisfied: pandas in c:\\users\\sa\\appdata\\local\\programs\\python\\python312\\lib\\site-packages (from tensorflow_decision_forests) (2.2.2)\n",
      "INFO: pip is looking at multiple versions of tensorflow-decision-forests to determine which version is compatible with other requirements. This could take a while.\n"
     ]
    },
    {
     "name": "stderr",
     "output_type": "stream",
     "text": [
      "DEPRECATION: Loading egg at c:\\users\\sa\\appdata\\local\\programs\\python\\python312\\lib\\site-packages\\yapf-0.40.2-py3.12.egg is deprecated. pip 25.1 will enforce this behaviour change. A possible replacement is to use pip for package installation. Discussion can be found at https://github.com/pypa/pip/issues/12330\n",
      "ERROR: Could not find a version that satisfies the requirement tensorflow~=2.15.0 (from tensorflow-decision-forests) (from versions: 2.16.0rc0, 2.16.1, 2.16.2, 2.17.0rc0, 2.17.0rc1, 2.17.0, 2.17.1, 2.18.0rc0, 2.18.0rc1, 2.18.0rc2, 2.18.0)\n",
      "ERROR: No matching distribution found for tensorflow~=2.15.0\n"
     ]
    }
   ],
   "source": [
    "!pip install -U tensorflow_decision_forests\n"
   ]
  },
  {
   "cell_type": "code",
   "execution_count": 22,
   "metadata": {},
   "outputs": [],
   "source": [
    "import os\n",
    "import pandas as pd\n",
    "import tensorflow as tf\n",
    "from sklearn.model_selection import train_test_split\n",
    "from sklearn.preprocessing import LabelEncoder\n",
    "from sklearn.metrics import accuracy_score, classification_report, confusion_matrix, precision_score, recall_score, f1_score\n",
    "import matplotlib.pyplot as plt\n",
    "import seaborn as sns"
   ]
  },
  {
   "cell_type": "markdown",
   "metadata": {},
   "source": [
    "# Data Loading and Preprocessing\n"
   ]
  },
  {
   "cell_type": "code",
   "execution_count": 23,
   "metadata": {},
   "outputs": [
    {
     "name": "stdout",
     "output_type": "stream",
     "text": [
      "Label Counts:\n",
      " label\n",
      "Yes           1286\n",
      "No             973\n",
      "I_Love_You     896\n",
      "Hello          895\n",
      "f              800\n",
      "c              797\n",
      "e              700\n",
      "Now            699\n",
      "Awkward        694\n",
      "Sorry          673\n",
      "Bathroom       672\n",
      "d              667\n",
      "Deaf           665\n",
      "Goodbye        664\n",
      "a              662\n",
      "b              653\n",
      "Name: count, dtype: int64\n",
      "Number of instances of label 'hellow': 0\n"
     ]
    }
   ],
   "source": [
    "# Load and Concatenate CSV Files\n",
    "def load_csv_files(folder_path):\n",
    "    \"\"\"\n",
    "    Load all CSV files from the specified folder and concatenate them into a single DataFrame.\n",
    "    Each file's name (without extension) is used as the label.\n",
    "    \"\"\"\n",
    "    dataframes = []\n",
    "    for file_name in os.listdir(folder_path):\n",
    "        if file_name.endswith(\".csv\"):\n",
    "            label = file_name.split(\".\")[0]  # Use the file name (without extension) as the label\n",
    "            df = pd.read_csv(os.path.join(folder_path, file_name))\n",
    "            df['label'] = label  # Add a label column\n",
    "            dataframes.append(df)\n",
    "    return pd.concat(dataframes, ignore_index=True)\n",
    "\n",
    "# Data Loading\n",
    "data_folder = r\"data\"\n",
    "df = load_csv_files(data_folder)\n",
    "\n",
    "# Select relevant columns for features and labels\n",
    "selected_columns = [\"Flex1\", \"Flex2\", \"Flex3\", \"Flex4\", \"Flex5\", \n",
    "                    \"AccelX\", \"AccelY\", \"AccelZ\", \"GyroX\", \"GyroY\", \"GyroZ\", \"label\"]\n",
    "\n",
    "# Ensure selected columns exist\n",
    "df = df[selected_columns]\n",
    "\n",
    "# Handle missing values by dropping rows with NaN values\n",
    "df = df.dropna()\n",
    "\n",
    "# Display label counts and explore the 'hellow' label\n",
    "label_counts = df[\"label\"].value_counts()\n",
    "print(\"Label Counts:\\n\", label_counts)\n",
    "\n",
    "label_hellow_count = df[df['label'] == 'hellow'].shape[0]\n",
    "print(f\"Number of instances of label 'hellow': {label_hellow_count}\")"
   ]
  },
  {
   "cell_type": "markdown",
   "metadata": {},
   "source": [
    "# Data Splitting: Features and Labels"
   ]
  },
  {
   "cell_type": "code",
   "execution_count": 24,
   "metadata": {},
   "outputs": [
    {
     "name": "stdout",
     "output_type": "stream",
     "text": [
      "Label Counts:\n",
      " label\n",
      "Yes           1286\n",
      "No             973\n",
      "I_Love_You     896\n",
      "Hello          895\n",
      "f              800\n",
      "c              797\n",
      "e              700\n",
      "Now            699\n",
      "Awkward        694\n",
      "Sorry          673\n",
      "Bathroom       672\n",
      "d              667\n",
      "Deaf           665\n",
      "Goodbye        664\n",
      "a              662\n",
      "b              653\n",
      "Name: count, dtype: int64\n",
      "Number of instances of label 'hellow': 0\n"
     ]
    }
   ],
   "source": [
    "\n",
    "# Select relevant columns for features and labels\n",
    "selected_columns = [\"Flex1\", \"Flex2\", \"Flex3\", \"Flex4\", \"Flex5\", \n",
    "                    \"AccelX\", \"AccelY\", \"AccelZ\", \"GyroX\", \"GyroY\", \"GyroZ\", \"label\"]\n",
    "\n",
    "# Ensure selected columns exist\n",
    "df = df[selected_columns]\n",
    "\n",
    "# Handle missing values by dropping rows with NaN values\n",
    "df = df.dropna()\n",
    "\n",
    "# Display label counts and explore the 'hellow' label\n",
    "label_counts = df[\"label\"].value_counts()\n",
    "print(\"Label Counts:\\n\", label_counts)\n",
    "\n",
    "label_hellow_count = df[df['label'] == 'hellow'].shape[0]\n",
    "print(f\"Number of instances of label 'hellow': {label_hellow_count}\")\n",
    "\n",
    "# Data Splitting: Features and Labels\n",
    "X = df[[\"Flex1\", \"Flex2\", \"Flex3\", \"Flex4\", \"Flex5\", \"AccelX\", \"AccelY\", \"AccelZ\", \"GyroX\", \"GyroY\", \"GyroZ\"]]\n",
    "y = df[\"label\"]\n",
    "\n",
    "# Encode labels (y)\n",
    "label_encoder = LabelEncoder()\n",
    "y_encoded = label_encoder.fit_transform(y)\n",
    "\n",
    "# Split into train and test sets\n",
    "X_train, X_test, y_train, y_test = train_test_split(X, y_encoded, test_size=0.2, random_state=42, stratify=y_encoded)\n",
    "\n",
    "# Normalize data (important for neural networks)\n",
    "X_train = X_train / X_train.max()\n",
    "X_test = X_test / X_test.max()"
   ]
  },
  {
   "cell_type": "code",
   "execution_count": 31,
   "metadata": {},
   "outputs": [
    {
     "name": "stdout",
     "output_type": "stream",
     "text": [
      "Label to Number Mapping:\n",
      "Awkward: 0\n",
      "Bathroom: 1\n",
      "Deaf: 2\n",
      "Goodbye: 3\n",
      "Hello: 4\n",
      "I_Love_You: 5\n",
      "No: 6\n",
      "Now: 7\n",
      "Sorry: 8\n",
      "Yes: 9\n",
      "a: 10\n",
      "b: 11\n",
      "c: 12\n",
      "d: 13\n",
      "e: 14\n",
      "f: 15\n"
     ]
    }
   ],
   "source": [
    "# Create the mapping between labels and their numeric encoded values\n",
    "label_mapping = dict(zip(label_encoder.classes_, range(len(label_encoder.classes_))))\n",
    "\n",
    "# Print the label to number mapping\n",
    "print(\"Label to Number Mapping:\")\n",
    "for label, number in label_mapping.items():\n",
    "    print(f\"{label}: {number}\")\n"
   ]
  },
  {
   "cell_type": "markdown",
   "metadata": {},
   "source": [
    "# Build a simple neural network model in TensorFlow"
   ]
  },
  {
   "cell_type": "code",
   "execution_count": 26,
   "metadata": {},
   "outputs": [
    {
     "name": "stdout",
     "output_type": "stream",
     "text": [
      "Epoch 1/50\n"
     ]
    },
    {
     "name": "stderr",
     "output_type": "stream",
     "text": [
      "c:\\Users\\sa\\AppData\\Local\\Programs\\Python\\Python312\\Lib\\site-packages\\keras\\src\\layers\\core\\dense.py:87: UserWarning: Do not pass an `input_shape`/`input_dim` argument to a layer. When using Sequential models, prefer using an `Input(shape)` object as the first layer in the model instead.\n",
      "  super().__init__(activity_regularizer=activity_regularizer, **kwargs)\n"
     ]
    },
    {
     "name": "stdout",
     "output_type": "stream",
     "text": [
      "\u001b[1m310/310\u001b[0m \u001b[32m━━━━━━━━━━━━━━━━━━━━\u001b[0m\u001b[37m\u001b[0m \u001b[1m2s\u001b[0m 2ms/step - accuracy: 0.1678 - loss: 2.5867 - val_accuracy: 0.4480 - val_loss: 1.7218 - learning_rate: 0.0010\n",
      "Epoch 2/50\n",
      "\u001b[1m310/310\u001b[0m \u001b[32m━━━━━━━━━━━━━━━━━━━━\u001b[0m\u001b[37m\u001b[0m \u001b[1m0s\u001b[0m 1ms/step - accuracy: 0.4719 - loss: 1.6822 - val_accuracy: 0.6798 - val_loss: 1.1595 - learning_rate: 0.0010\n",
      "Epoch 3/50\n",
      "\u001b[1m310/310\u001b[0m \u001b[32m━━━━━━━━━━━━━━━━━━━━\u001b[0m\u001b[37m\u001b[0m \u001b[1m1s\u001b[0m 2ms/step - accuracy: 0.5850 - loss: 1.2947 - val_accuracy: 0.6835 - val_loss: 1.0179 - learning_rate: 0.0010\n",
      "Epoch 4/50\n",
      "\u001b[1m310/310\u001b[0m \u001b[32m━━━━━━━━━━━━━━━━━━━━\u001b[0m\u001b[37m\u001b[0m \u001b[1m0s\u001b[0m 1ms/step - accuracy: 0.6522 - loss: 1.0775 - val_accuracy: 0.7270 - val_loss: 0.9024 - learning_rate: 0.0010\n",
      "Epoch 5/50\n",
      "\u001b[1m310/310\u001b[0m \u001b[32m━━━━━━━━━━━━━━━━━━━━\u001b[0m\u001b[37m\u001b[0m \u001b[1m0s\u001b[0m 1ms/step - accuracy: 0.6874 - loss: 0.9525 - val_accuracy: 0.7774 - val_loss: 0.7472 - learning_rate: 0.0010\n",
      "Epoch 6/50\n",
      "\u001b[1m310/310\u001b[0m \u001b[32m━━━━━━━━━━━━━━━━━━━━\u001b[0m\u001b[37m\u001b[0m \u001b[1m0s\u001b[0m 1ms/step - accuracy: 0.7252 - loss: 0.8693 - val_accuracy: 0.8000 - val_loss: 0.6975 - learning_rate: 0.0010\n",
      "Epoch 7/50\n",
      "\u001b[1m310/310\u001b[0m \u001b[32m━━━━━━━━━━━━━━━━━━━━\u001b[0m\u001b[37m\u001b[0m \u001b[1m1s\u001b[0m 1ms/step - accuracy: 0.7479 - loss: 0.7817 - val_accuracy: 0.8246 - val_loss: 0.6136 - learning_rate: 0.0010\n",
      "Epoch 8/50\n",
      "\u001b[1m310/310\u001b[0m \u001b[32m━━━━━━━━━━━━━━━━━━━━\u001b[0m\u001b[37m\u001b[0m \u001b[1m0s\u001b[0m 1ms/step - accuracy: 0.7693 - loss: 0.7249 - val_accuracy: 0.8028 - val_loss: 0.6705 - learning_rate: 0.0010\n",
      "Epoch 9/50\n",
      "\u001b[1m310/310\u001b[0m \u001b[32m━━━━━━━━━━━━━━━━━━━━\u001b[0m\u001b[37m\u001b[0m \u001b[1m0s\u001b[0m 1ms/step - accuracy: 0.7880 - loss: 0.6400 - val_accuracy: 0.8230 - val_loss: 0.5802 - learning_rate: 0.0010\n",
      "Epoch 10/50\n",
      "\u001b[1m310/310\u001b[0m \u001b[32m━━━━━━━━━━━━━━━━━━━━\u001b[0m\u001b[37m\u001b[0m \u001b[1m1s\u001b[0m 2ms/step - accuracy: 0.7963 - loss: 0.6307 - val_accuracy: 0.8327 - val_loss: 0.5313 - learning_rate: 0.0010\n",
      "Epoch 11/50\n",
      "\u001b[1m310/310\u001b[0m \u001b[32m━━━━━━━━━━━━━━━━━━━━\u001b[0m\u001b[37m\u001b[0m \u001b[1m0s\u001b[0m 1ms/step - accuracy: 0.8051 - loss: 0.5961 - val_accuracy: 0.8270 - val_loss: 0.5363 - learning_rate: 0.0010\n",
      "Epoch 12/50\n",
      "\u001b[1m310/310\u001b[0m \u001b[32m━━━━━━━━━━━━━━━━━━━━\u001b[0m\u001b[37m\u001b[0m \u001b[1m1s\u001b[0m 2ms/step - accuracy: 0.8038 - loss: 0.6123 - val_accuracy: 0.8355 - val_loss: 0.4919 - learning_rate: 0.0010\n",
      "Epoch 13/50\n",
      "\u001b[1m310/310\u001b[0m \u001b[32m━━━━━━━━━━━━━━━━━━━━\u001b[0m\u001b[37m\u001b[0m \u001b[1m1s\u001b[0m 2ms/step - accuracy: 0.8180 - loss: 0.5465 - val_accuracy: 0.8504 - val_loss: 0.4730 - learning_rate: 0.0010\n",
      "Epoch 14/50\n",
      "\u001b[1m310/310\u001b[0m \u001b[32m━━━━━━━━━━━━━━━━━━━━\u001b[0m\u001b[37m\u001b[0m \u001b[1m0s\u001b[0m 1ms/step - accuracy: 0.8246 - loss: 0.5340 - val_accuracy: 0.8472 - val_loss: 0.4717 - learning_rate: 0.0010\n",
      "Epoch 15/50\n",
      "\u001b[1m310/310\u001b[0m \u001b[32m━━━━━━━━━━━━━━━━━━━━\u001b[0m\u001b[37m\u001b[0m \u001b[1m0s\u001b[0m 1ms/step - accuracy: 0.8377 - loss: 0.5120 - val_accuracy: 0.8617 - val_loss: 0.4593 - learning_rate: 0.0010\n",
      "Epoch 16/50\n",
      "\u001b[1m310/310\u001b[0m \u001b[32m━━━━━━━━━━━━━━━━━━━━\u001b[0m\u001b[37m\u001b[0m \u001b[1m0s\u001b[0m 1ms/step - accuracy: 0.8353 - loss: 0.5121 - val_accuracy: 0.8746 - val_loss: 0.4195 - learning_rate: 0.0010\n",
      "Epoch 17/50\n",
      "\u001b[1m310/310\u001b[0m \u001b[32m━━━━━━━━━━━━━━━━━━━━\u001b[0m\u001b[37m\u001b[0m \u001b[1m1s\u001b[0m 2ms/step - accuracy: 0.8378 - loss: 0.4989 - val_accuracy: 0.8786 - val_loss: 0.4037 - learning_rate: 0.0010\n",
      "Epoch 18/50\n",
      "\u001b[1m310/310\u001b[0m \u001b[32m━━━━━━━━━━━━━━━━━━━━\u001b[0m\u001b[37m\u001b[0m \u001b[1m1s\u001b[0m 2ms/step - accuracy: 0.8456 - loss: 0.4916 - val_accuracy: 0.8766 - val_loss: 0.4031 - learning_rate: 0.0010\n",
      "Epoch 19/50\n",
      "\u001b[1m310/310\u001b[0m \u001b[32m━━━━━━━━━━━━━━━━━━━━\u001b[0m\u001b[37m\u001b[0m \u001b[1m0s\u001b[0m 1ms/step - accuracy: 0.8506 - loss: 0.4711 - val_accuracy: 0.8798 - val_loss: 0.4057 - learning_rate: 0.0010\n",
      "Epoch 20/50\n",
      "\u001b[1m310/310\u001b[0m \u001b[32m━━━━━━━━━━━━━━━━━━━━\u001b[0m\u001b[37m\u001b[0m \u001b[1m1s\u001b[0m 2ms/step - accuracy: 0.8543 - loss: 0.4588 - val_accuracy: 0.8806 - val_loss: 0.3720 - learning_rate: 0.0010\n",
      "Epoch 21/50\n",
      "\u001b[1m310/310\u001b[0m \u001b[32m━━━━━━━━━━━━━━━━━━━━\u001b[0m\u001b[37m\u001b[0m \u001b[1m0s\u001b[0m 1ms/step - accuracy: 0.8516 - loss: 0.4490 - val_accuracy: 0.8839 - val_loss: 0.3710 - learning_rate: 0.0010\n",
      "Epoch 22/50\n",
      "\u001b[1m310/310\u001b[0m \u001b[32m━━━━━━━━━━━━━━━━━━━━\u001b[0m\u001b[37m\u001b[0m \u001b[1m0s\u001b[0m 1ms/step - accuracy: 0.8454 - loss: 0.4630 - val_accuracy: 0.8911 - val_loss: 0.3590 - learning_rate: 0.0010\n",
      "Epoch 23/50\n",
      "\u001b[1m310/310\u001b[0m \u001b[32m━━━━━━━━━━━━━━━━━━━━\u001b[0m\u001b[37m\u001b[0m \u001b[1m0s\u001b[0m 1ms/step - accuracy: 0.8507 - loss: 0.4392 - val_accuracy: 0.8843 - val_loss: 0.3527 - learning_rate: 0.0010\n",
      "Epoch 24/50\n",
      "\u001b[1m310/310\u001b[0m \u001b[32m━━━━━━━━━━━━━━━━━━━━\u001b[0m\u001b[37m\u001b[0m \u001b[1m1s\u001b[0m 2ms/step - accuracy: 0.8638 - loss: 0.4173 - val_accuracy: 0.8875 - val_loss: 0.3680 - learning_rate: 0.0010\n",
      "Epoch 25/50\n",
      "\u001b[1m310/310\u001b[0m \u001b[32m━━━━━━━━━━━━━━━━━━━━\u001b[0m\u001b[37m\u001b[0m \u001b[1m0s\u001b[0m 1ms/step - accuracy: 0.8674 - loss: 0.4105 - val_accuracy: 0.8859 - val_loss: 0.3562 - learning_rate: 0.0010\n",
      "Epoch 26/50\n",
      "\u001b[1m310/310\u001b[0m \u001b[32m━━━━━━━━━━━━━━━━━━━━\u001b[0m\u001b[37m\u001b[0m \u001b[1m1s\u001b[0m 2ms/step - accuracy: 0.8676 - loss: 0.3974 - val_accuracy: 0.8931 - val_loss: 0.3409 - learning_rate: 0.0010\n",
      "Epoch 27/50\n",
      "\u001b[1m310/310\u001b[0m \u001b[32m━━━━━━━━━━━━━━━━━━━━\u001b[0m\u001b[37m\u001b[0m \u001b[1m0s\u001b[0m 1ms/step - accuracy: 0.8712 - loss: 0.4110 - val_accuracy: 0.8871 - val_loss: 0.3594 - learning_rate: 0.0010\n",
      "Epoch 28/50\n",
      "\u001b[1m310/310\u001b[0m \u001b[32m━━━━━━━━━━━━━━━━━━━━\u001b[0m\u001b[37m\u001b[0m \u001b[1m0s\u001b[0m 1ms/step - accuracy: 0.8700 - loss: 0.4041 - val_accuracy: 0.8774 - val_loss: 0.3590 - learning_rate: 0.0010\n",
      "Epoch 29/50\n",
      "\u001b[1m310/310\u001b[0m \u001b[32m━━━━━━━━━━━━━━━━━━━━\u001b[0m\u001b[37m\u001b[0m \u001b[1m0s\u001b[0m 1ms/step - accuracy: 0.8713 - loss: 0.3907 - val_accuracy: 0.9004 - val_loss: 0.3443 - learning_rate: 0.0010\n",
      "Epoch 30/50\n",
      "\u001b[1m310/310\u001b[0m \u001b[32m━━━━━━━━━━━━━━━━━━━━\u001b[0m\u001b[37m\u001b[0m \u001b[1m0s\u001b[0m 1ms/step - accuracy: 0.8777 - loss: 0.3707 - val_accuracy: 0.9012 - val_loss: 0.3297 - learning_rate: 1.0000e-04\n",
      "Epoch 31/50\n",
      "\u001b[1m310/310\u001b[0m \u001b[32m━━━━━━━━━━━━━━━━━━━━\u001b[0m\u001b[37m\u001b[0m \u001b[1m0s\u001b[0m 1ms/step - accuracy: 0.8924 - loss: 0.3533 - val_accuracy: 0.8996 - val_loss: 0.3284 - learning_rate: 1.0000e-04\n",
      "Epoch 32/50\n",
      "\u001b[1m310/310\u001b[0m \u001b[32m━━━━━━━━━━━━━━━━━━━━\u001b[0m\u001b[37m\u001b[0m \u001b[1m0s\u001b[0m 1ms/step - accuracy: 0.8916 - loss: 0.3445 - val_accuracy: 0.9032 - val_loss: 0.3264 - learning_rate: 1.0000e-04\n",
      "Epoch 33/50\n",
      "\u001b[1m310/310\u001b[0m \u001b[32m━━━━━━━━━━━━━━━━━━━━\u001b[0m\u001b[37m\u001b[0m \u001b[1m1s\u001b[0m 2ms/step - accuracy: 0.8950 - loss: 0.3386 - val_accuracy: 0.9036 - val_loss: 0.3233 - learning_rate: 1.0000e-04\n",
      "Epoch 34/50\n",
      "\u001b[1m310/310\u001b[0m \u001b[32m━━━━━━━━━━━━━━━━━━━━\u001b[0m\u001b[37m\u001b[0m \u001b[1m0s\u001b[0m 1ms/step - accuracy: 0.8887 - loss: 0.3571 - val_accuracy: 0.9020 - val_loss: 0.3221 - learning_rate: 1.0000e-04\n",
      "Epoch 35/50\n",
      "\u001b[1m310/310\u001b[0m \u001b[32m━━━━━━━━━━━━━━━━━━━━\u001b[0m\u001b[37m\u001b[0m \u001b[1m0s\u001b[0m 1ms/step - accuracy: 0.8872 - loss: 0.3503 - val_accuracy: 0.9016 - val_loss: 0.3203 - learning_rate: 1.0000e-04\n",
      "Epoch 36/50\n",
      "\u001b[1m310/310\u001b[0m \u001b[32m━━━━━━━━━━━━━━━━━━━━\u001b[0m\u001b[37m\u001b[0m \u001b[1m1s\u001b[0m 3ms/step - accuracy: 0.8874 - loss: 0.3412 - val_accuracy: 0.9020 - val_loss: 0.3226 - learning_rate: 1.0000e-04\n",
      "Epoch 37/50\n",
      "\u001b[1m310/310\u001b[0m \u001b[32m━━━━━━━━━━━━━━━━━━━━\u001b[0m\u001b[37m\u001b[0m \u001b[1m0s\u001b[0m 1ms/step - accuracy: 0.8941 - loss: 0.3311 - val_accuracy: 0.9056 - val_loss: 0.3197 - learning_rate: 1.0000e-04\n",
      "Epoch 38/50\n",
      "\u001b[1m310/310\u001b[0m \u001b[32m━━━━━━━━━━━━━━━━━━━━\u001b[0m\u001b[37m\u001b[0m \u001b[1m0s\u001b[0m 1ms/step - accuracy: 0.8844 - loss: 0.3573 - val_accuracy: 0.9036 - val_loss: 0.3194 - learning_rate: 1.0000e-04\n",
      "Epoch 39/50\n",
      "\u001b[1m310/310\u001b[0m \u001b[32m━━━━━━━━━━━━━━━━━━━━\u001b[0m\u001b[37m\u001b[0m \u001b[1m1s\u001b[0m 2ms/step - accuracy: 0.8891 - loss: 0.3453 - val_accuracy: 0.9044 - val_loss: 0.3176 - learning_rate: 1.0000e-04\n",
      "Epoch 40/50\n",
      "\u001b[1m310/310\u001b[0m \u001b[32m━━━━━━━━━━━━━━━━━━━━\u001b[0m\u001b[37m\u001b[0m \u001b[1m0s\u001b[0m 1ms/step - accuracy: 0.8889 - loss: 0.3422 - val_accuracy: 0.9004 - val_loss: 0.3202 - learning_rate: 1.0000e-04\n",
      "Epoch 41/50\n",
      "\u001b[1m310/310\u001b[0m \u001b[32m━━━━━━━━━━━━━━━━━━━━\u001b[0m\u001b[37m\u001b[0m \u001b[1m1s\u001b[0m 2ms/step - accuracy: 0.8926 - loss: 0.3332 - val_accuracy: 0.9028 - val_loss: 0.3179 - learning_rate: 1.0000e-04\n",
      "Epoch 42/50\n",
      "\u001b[1m310/310\u001b[0m \u001b[32m━━━━━━━━━━━━━━━━━━━━\u001b[0m\u001b[37m\u001b[0m \u001b[1m1s\u001b[0m 3ms/step - accuracy: 0.8945 - loss: 0.3409 - val_accuracy: 0.9052 - val_loss: 0.3149 - learning_rate: 1.0000e-04\n",
      "Epoch 43/50\n",
      "\u001b[1m310/310\u001b[0m \u001b[32m━━━━━━━━━━━━━━━━━━━━\u001b[0m\u001b[37m\u001b[0m \u001b[1m0s\u001b[0m 1ms/step - accuracy: 0.8951 - loss: 0.3323 - val_accuracy: 0.9040 - val_loss: 0.3170 - learning_rate: 1.0000e-04\n",
      "Epoch 44/50\n",
      "\u001b[1m310/310\u001b[0m \u001b[32m━━━━━━━━━━━━━━━━━━━━\u001b[0m\u001b[37m\u001b[0m \u001b[1m0s\u001b[0m 1ms/step - accuracy: 0.8869 - loss: 0.3582 - val_accuracy: 0.9052 - val_loss: 0.3140 - learning_rate: 1.0000e-04\n",
      "Epoch 45/50\n",
      "\u001b[1m310/310\u001b[0m \u001b[32m━━━━━━━━━━━━━━━━━━━━\u001b[0m\u001b[37m\u001b[0m \u001b[1m0s\u001b[0m 1ms/step - accuracy: 0.8930 - loss: 0.3250 - val_accuracy: 0.9048 - val_loss: 0.3173 - learning_rate: 1.0000e-04\n",
      "Epoch 46/50\n",
      "\u001b[1m310/310\u001b[0m \u001b[32m━━━━━━━━━━━━━━━━━━━━\u001b[0m\u001b[37m\u001b[0m \u001b[1m0s\u001b[0m 1ms/step - accuracy: 0.8904 - loss: 0.3324 - val_accuracy: 0.9040 - val_loss: 0.3147 - learning_rate: 1.0000e-04\n",
      "Epoch 47/50\n",
      "\u001b[1m310/310\u001b[0m \u001b[32m━━━━━━━━━━━━━━━━━━━━\u001b[0m\u001b[37m\u001b[0m \u001b[1m1s\u001b[0m 2ms/step - accuracy: 0.8920 - loss: 0.3418 - val_accuracy: 0.9060 - val_loss: 0.3119 - learning_rate: 1.0000e-04\n",
      "Epoch 48/50\n",
      "\u001b[1m310/310\u001b[0m \u001b[32m━━━━━━━━━━━━━━━━━━━━\u001b[0m\u001b[37m\u001b[0m \u001b[1m0s\u001b[0m 1ms/step - accuracy: 0.8948 - loss: 0.3431 - val_accuracy: 0.9073 - val_loss: 0.3134 - learning_rate: 1.0000e-04\n",
      "Epoch 49/50\n",
      "\u001b[1m310/310\u001b[0m \u001b[32m━━━━━━━━━━━━━━━━━━━━\u001b[0m\u001b[37m\u001b[0m \u001b[1m0s\u001b[0m 1ms/step - accuracy: 0.8847 - loss: 0.3587 - val_accuracy: 0.9069 - val_loss: 0.3102 - learning_rate: 1.0000e-04\n",
      "Epoch 50/50\n",
      "\u001b[1m310/310\u001b[0m \u001b[32m━━━━━━━━━━━━━━━━━━━━\u001b[0m\u001b[37m\u001b[0m \u001b[1m0s\u001b[0m 1ms/step - accuracy: 0.8911 - loss: 0.3409 - val_accuracy: 0.9065 - val_loss: 0.3145 - learning_rate: 1.0000e-04\n"
     ]
    }
   ],
   "source": [
    "# Build a deeper model with dropout and L2 regularization\n",
    "model = tf.keras.Sequential([\n",
    "    tf.keras.layers.Dense(128, activation='relu', input_shape=(X_train.shape[1],)),\n",
    "    tf.keras.layers.Dropout(0.2),  # Adding dropout to reduce overfitting\n",
    "    tf.keras.layers.Dense(64, activation='relu'),\n",
    "    tf.keras.layers.Dropout(0.2),\n",
    "    tf.keras.layers.Dense(32, activation='relu'),\n",
    "    tf.keras.layers.Dense(len(label_encoder.classes_), activation='softmax')  # For multi-class classification\n",
    "])\n",
    "\n",
    "# Compile the model with Adam optimizer and categorical crossentropy loss\n",
    "model.compile(optimizer=tf.keras.optimizers.Adam(learning_rate=0.001),\n",
    "              loss='sparse_categorical_crossentropy',  # Use 'sparse_categorical_crossentropy' for integer labels\n",
    "              metrics=['accuracy'])\n",
    "\n",
    "# Implement Early Stopping and ReduceLROnPlateau\n",
    "early_stopping = tf.keras.callbacks.EarlyStopping(monitor='val_loss', patience=10, restore_best_weights=True)\n",
    "lr_scheduler = tf.keras.callbacks.ReduceLROnPlateau(monitor='val_loss', factor=0.1, patience=3)\n",
    "\n",
    "# Train the model\n",
    "history = model.fit(X_train, y_train, epochs=50, batch_size=32, \n",
    "                    validation_data=(X_test, y_test),\n",
    "                    callbacks=[early_stopping, lr_scheduler])\n"
   ]
  },
  {
   "cell_type": "code",
   "execution_count": 27,
   "metadata": {},
   "outputs": [
    {
     "name": "stdout",
     "output_type": "stream",
     "text": [
      "\u001b[1m78/78\u001b[0m \u001b[32m━━━━━━━━━━━━━━━━━━━━\u001b[0m\u001b[37m\u001b[0m \u001b[1m0s\u001b[0m 1ms/step - accuracy: 0.9007 - loss: 0.3022\n",
      "Test Accuracy: 0.9068548679351807\n",
      "\u001b[1m78/78\u001b[0m \u001b[32m━━━━━━━━━━━━━━━━━━━━\u001b[0m\u001b[37m\u001b[0m \u001b[1m0s\u001b[0m 2ms/step\n",
      "Model Accuracy: 0.9068548387096774\n"
     ]
    }
   ],
   "source": [
    "# Evaluate the model on test data\n",
    "loss, accuracy = model.evaluate(X_test, y_test)\n",
    "print(f\"Test Accuracy: {accuracy}\")\n",
    "\n",
    "# Model Evaluation: Accuracy and Classification Report\n",
    "y_pred = model.predict(X_test)\n",
    "y_pred_classes = y_pred.argmax(axis=-1)\n",
    "\n",
    "# Model Accuracy\n",
    "accuracy = accuracy_score(y_test, y_pred_classes)\n",
    "print(f\"Model Accuracy: {accuracy}\")\n"
   ]
  },
  {
   "cell_type": "markdown",
   "metadata": {},
   "source": [
    "# Model Evaluation: Accuracy and Classification Report"
   ]
  },
  {
   "cell_type": "code",
   "execution_count": 28,
   "metadata": {},
   "outputs": [
    {
     "name": "stdout",
     "output_type": "stream",
     "text": [
      "\n",
      "Classification Report:\n",
      "               precision    recall  f1-score   support\n",
      "\n",
      "           0       0.99      0.78      0.88       139\n",
      "           1       0.92      0.91      0.92       134\n",
      "           2       0.96      0.99      0.98       133\n",
      "           3       1.00      0.94      0.97       133\n",
      "           4       0.74      0.94      0.83       179\n",
      "           5       0.95      0.84      0.89       179\n",
      "           6       0.76      0.84      0.80       195\n",
      "           7       1.00      0.89      0.94       140\n",
      "           8       0.99      0.94      0.97       135\n",
      "           9       0.80      0.86      0.83       257\n",
      "          10       1.00      0.96      0.98       132\n",
      "          11       1.00      0.99      1.00       131\n",
      "          12       0.88      0.84      0.86       160\n",
      "          13       0.99      0.96      0.98       133\n",
      "          14       0.99      0.94      0.96       140\n",
      "          15       0.89      0.97      0.93       160\n",
      "\n",
      "    accuracy                           0.91      2480\n",
      "   macro avg       0.93      0.91      0.92      2480\n",
      "weighted avg       0.92      0.91      0.91      2480\n",
      "\n"
     ]
    },
    {
     "data": {
      "image/png": "[encoded data removed]",
      "text/plain": [
       "<Figure size 1000x600 with 2 Axes>"
      ]
     },
     "metadata": {},
     "output_type": "display_data"
    },
    {
     "name": "stdout",
     "output_type": "stream",
     "text": [
      "Precision: 0.9152958103782508\n",
      "Recall: 0.9068548387096774\n",
      "F1 Score: 0.9084704961656231\n"
     ]
    }
   ],
   "source": [
    "# Classification Report\n",
    "print(\"\\nClassification Report:\\n\", classification_report(y_test, y_pred_classes))\n",
    "\n",
    "# Confusion Matrix\n",
    "conf_matrix = confusion_matrix(y_test, y_pred_classes)\n",
    "plt.figure(figsize=(10, 6))\n",
    "sns.heatmap(conf_matrix, annot=True, fmt=\"d\", cmap=\"Blues\", xticklabels=label_encoder.classes_, yticklabels=label_encoder.classes_)\n",
    "plt.title(\"Confusion Matrix\")\n",
    "plt.xlabel(\"Predicted\")\n",
    "plt.ylabel(\"Actual\")\n",
    "plt.show()\n",
    "\n",
    "# Precision, Recall, F1-Score\n",
    "precision = precision_score(y_test, y_pred_classes, average=\"weighted\")\n",
    "recall = recall_score(y_test, y_pred_classes, average=\"weighted\")\n",
    "f1 = f1_score(y_test, y_pred_classes, average=\"weighted\")\n",
    "print(f\"Precision: {precision}\")\n",
    "print(f\"Recall: {recall}\")\n",
    "print(f\"F1 Score: {f1}\")"
   ]
  },
  {
   "cell_type": "markdown",
   "metadata": {},
   "source": [
    "# Save the Trained Model"
   ]
  },
  {
   "cell_type": "code",
   "execution_count": 29,
   "metadata": {},
   "outputs": [
    {
     "name": "stderr",
     "output_type": "stream",
     "text": [
      "WARNING:absl:You are saving your model as an HDF5 file via `model.save()` or `keras.saving.save_model(model)`. This file format is considered legacy. We recommend using instead the native Keras format, e.g. `model.save('my_model.keras')` or `keras.saving.save_model(model, 'my_model.keras')`. \n"
     ]
    },
    {
     "name": "stdout",
     "output_type": "stream",
     "text": [
      "INFO:tensorflow:Assets written to: C:\\Users\\sa\\AppData\\Local\\Temp\\tmp5hv_zc36\\assets\n"
     ]
    },
    {
     "name": "stderr",
     "output_type": "stream",
     "text": [
      "INFO:tensorflow:Assets written to: C:\\Users\\sa\\AppData\\Local\\Temp\\tmp5hv_zc36\\assets\n"
     ]
    },
    {
     "name": "stdout",
     "output_type": "stream",
     "text": [
      "Saved artifact at 'C:\\Users\\sa\\AppData\\Local\\Temp\\tmp5hv_zc36'. The following endpoints are available:\n",
      "\n",
      "* Endpoint 'serve'\n",
      "  args_0 (POSITIONAL_ONLY): TensorSpec(shape=(None, 11), dtype=tf.float32, name='keras_tensor_36')\n",
      "Output Type:\n",
      "  TensorSpec(shape=(None, 16), dtype=tf.float32, name=None)\n",
      "Captures:\n",
      "  1913632717328: TensorSpec(shape=(), dtype=tf.resource, name=None)\n",
      "  1913733999184: TensorSpec(shape=(), dtype=tf.resource, name=None)\n",
      "  1913733994000: TensorSpec(shape=(), dtype=tf.resource, name=None)\n",
      "  1913733998416: TensorSpec(shape=(), dtype=tf.resource, name=None)\n",
      "  1913733997264: TensorSpec(shape=(), dtype=tf.resource, name=None)\n",
      "  1913734001296: TensorSpec(shape=(), dtype=tf.resource, name=None)\n",
      "  1913734000720: TensorSpec(shape=(), dtype=tf.resource, name=None)\n",
      "  1913733996880: TensorSpec(shape=(), dtype=tf.resource, name=None)\n",
      "TFLite model has been saved as 'model.tflite'\n"
     ]
    }
   ],
   "source": [
    "# Save the Trained Model\n",
    "# Save the model as a .h5 file\n",
    "model.save(\"improved_model.h5\")\n",
    "\n",
    "# Convert the trained model to TFLite format\n",
    "converter = tf.lite.TFLiteConverter.from_keras_model(model)\n",
    "\n",
    "# Perform the conversion\n",
    "tflite_model = converter.convert()\n",
    "\n",
    "# Save the converted model to a file\n",
    "with open(\"model.tflite\", \"wb\") as f:\n",
    "    f.write(tflite_model)\n",
    "\n",
    "print(\"TFLite model has been saved as 'model.tflite'\")"
   ]
  }
 ],
 "metadata": {
  "kernelspec": {
   "display_name": "Python 3",
   "language": "python",
   "name": "python3"
  },
  "language_info": {
   "codemirror_mode": {
    "name": "ipython",
    "version": 3
   },
   "file_extension": ".py",
   "mimetype": "text/x-python",
   "name": "python",
   "nbconvert_exporter": "python",
   "pygments_lexer": "ipython3",
   "version": "3.12.4"
  }
 },
 "nbformat": 4,
 "nbformat_minor": 2
}
